{
 "cells": [
  {
   "cell_type": "code",
   "execution_count": 1,
   "metadata": {},
   "outputs": [],
   "source": [
    "from PIL import Image\n",
    "import glob\n",
    "import numpy as np\n",
    "from os import listdir"
   ]
  },
  {
   "cell_type": "code",
   "execution_count": 2,
   "metadata": {},
   "outputs": [],
   "source": [
    "import tensorflow as tf\n",
    "from tensorflow.keras import layers, models\n",
    "from tensorflow.keras.utils import Sequence"
   ]
  },
  {
   "cell_type": "code",
   "execution_count": 3,
   "metadata": {},
   "outputs": [],
   "source": [
    "# Determine training parameters\n",
    "EPOCHS = 20\n",
    "BATCHSIZE = 32\n",
    "VALSPLIT = 0.8\n",
    "\n",
    "path_ntr = './Data/chest_xray/train/normal/'\n",
    "path_ptr = './Data/chest_xray/train/pneumonia/'"
   ]
  },
  {
   "cell_type": "code",
   "execution_count": 4,
   "metadata": {},
   "outputs": [],
   "source": [
    "norm_list = listdir(path_ntr)\n",
    "pneu_list = listdir(path_ptr)\n",
    "                    \n",
    "ntrain_n = int(len(norm_list) * VALSPLIT)\n",
    "ntrain_p = int(len(pneu_list) * VALSPLIT)\n",
    "\n",
    "filenames = {'train': [], 'val': []}\n",
    "labels = {}\n",
    "\n",
    "ptr = 0\n",
    "for file in norm_list:\n",
    "    if ptr < ntrain_n:\n",
    "        filenames['train'].append(file)\n",
    "    else:\n",
    "        filenames['val'].append(file)\n",
    "    labels[file] = 0\n",
    "    ptr += 1\n",
    "\n",
    "ptr = 0\n",
    "for file in pneu_list:\n",
    "    if ptr < ntrain_p:\n",
    "        filenames['train'].append(file)\n",
    "    else:\n",
    "        filenames['val'].append(file)\n",
    "    labels[file] = 1\n",
    "    ptr += 1"
   ]
  },
  {
   "cell_type": "code",
   "execution_count": 5,
   "metadata": {},
   "outputs": [],
   "source": [
    "class Generator(Sequence):\n",
    "    def __init__(self, IDs, labels, batch_size=32, n_channels = 3, shuffle=True):\n",
    "        self.IDs = IDs\n",
    "        self.labels = labels\n",
    "        self.batch_size = batch_size\n",
    "        self.n_channels = n_channels\n",
    "        self.shuffle = shuffle\n",
    "        self.on_epoch_end()\n",
    "    \n",
    "    def __len__(self):\n",
    "        \n",
    "        return int(len(self.IDs) // self.batch_size)\n",
    "    \n",
    "    def __getitem__(self, idx):\n",
    "        indices = self.indices[idx*self.batch_size:(idx+1)*self.batch_size]\n",
    "        batch_IDs = [self.IDs[i] for i in indices]\n",
    "        X, y = self.__data_generation(batch_IDs, self.n_channels)\n",
    "        \n",
    "        return X, y\n",
    "    \n",
    "    def on_epoch_end(self):\n",
    "        self.indices = np.arange(len(self.IDs))\n",
    "        if self.shuffle:\n",
    "            np.random.shuffle(self.indices)\n",
    "    \n",
    "    def __data_generation(self, batch_IDs, n_channels):\n",
    "        paths = [path_ntr, path_ptr]\n",
    "\n",
    "        y = np.empty((self.batch_size), dtype=int)\n",
    "        \n",
    "        Xtemp = {}\n",
    "        dims = 0\n",
    "        for i, ID in enumerate(batch_IDs):\n",
    "            y_i = self.labels[ID]\n",
    "            \n",
    "            im = Image.open(paths[y_i] + ID).convert('RGB')\n",
    "            im.thumbnail((im.width // 8, im.height // 8), Image.ANTIALIAS)\n",
    "            if max(im.width, im.height) > dims:\n",
    "                dims = max(im.width, im.height)\n",
    "            \n",
    "            im = np.asarray(im, dtype=np.float32)\n",
    "            im /= 255.0\n",
    "            Xtemp[i] = im\n",
    "            y[i] = y_i\n",
    "        \n",
    "        X = np.empty((self.batch_size, dims, dims, n_channels), dtype=np.float32)\n",
    "        for i in Xtemp:\n",
    "            x_i = Xtemp[i]\n",
    "            pad = ((0,dims-x_i.shape[0]), (0, dims-x_i.shape[1]), (0, 0))\n",
    "            x_i = np.pad(x_i, pad_width=pad, mode='constant', constant_values=0)\n",
    "            X[i, :, :, :] = x_i\n",
    "        \n",
    "        return X, tf.keras.utils.to_categorical(y, num_classes=2)"
   ]
  },
  {
   "cell_type": "code",
   "execution_count": 6,
   "metadata": {},
   "outputs": [],
   "source": [
    "def make_FCN():\n",
    "    model = models.Sequential()\n",
    "    model.add(layers.Conv2D(32, (3, 3), input_shape=[None, None, 3]))\n",
    "    model.add(layers.MaxPooling2D())\n",
    "    model.add(layers.BatchNormalization())\n",
    "    model.add(layers.LeakyReLU())\n",
    "    \n",
    "    model.add(layers.Conv2D(64, (1, 1)))\n",
    "    model.add(layers.MaxPooling2D())\n",
    "    model.add(layers.BatchNormalization())\n",
    "    model.add(layers.LeakyReLU())\n",
    "    \n",
    "    model.add(layers.Conv2D(128, (1, 1)))\n",
    "    model.add(layers.MaxPooling2D())\n",
    "    model.add(layers.BatchNormalization())\n",
    "    model.add(layers.LeakyReLU())\n",
    "    \n",
    "    model.add(layers.Conv2D(256, (1, 1)))\n",
    "    model.add(layers.MaxPooling2D())\n",
    "    model.add(layers.BatchNormalization())\n",
    "    model.add(layers.LeakyReLU())\n",
    "    \n",
    "    model.add(layers.Conv2D(2, (1, 1)))\n",
    "    model.add(layers.GlobalMaxPooling2D())\n",
    "    model.add(layers.Activation('softmax'))\n",
    "\n",
    "    return model"
   ]
  },
  {
   "cell_type": "code",
   "execution_count": 7,
   "metadata": {},
   "outputs": [],
   "source": [
    "FCN = make_FCN()\n",
    "FCN.compile(optimizer='adam',\n",
    "             loss='categorical_crossentropy',\n",
    "             metrics=['accuracy'])"
   ]
  },
  {
   "cell_type": "code",
   "execution_count": 8,
   "metadata": {},
   "outputs": [],
   "source": [
    "training_generator = Generator(filenames['train'], labels)\n",
    "val_generator = Generator(filenames['val'], labels)"
   ]
  },
  {
   "cell_type": "code",
   "execution_count": 9,
   "metadata": {},
   "outputs": [
    {
     "name": "stdout",
     "output_type": "stream",
     "text": [
      "Epoch 1/20\n",
      "130/130 - 76s - loss: 0.3669 - accuracy: 0.8425 - val_loss: 0.6479 - val_accuracy: 0.7402\n",
      "Epoch 2/20\n",
      "130/130 - 63s - loss: 0.2686 - accuracy: 0.8827 - val_loss: 0.8519 - val_accuracy: 0.7373\n",
      "Epoch 3/20\n",
      "130/130 - 63s - loss: 0.2572 - accuracy: 0.8954 - val_loss: 1.5466 - val_accuracy: 0.7412\n",
      "Epoch 4/20\n",
      "130/130 - 63s - loss: 0.2483 - accuracy: 0.8947 - val_loss: 0.5417 - val_accuracy: 0.7617\n",
      "Epoch 5/20\n",
      "130/130 - 63s - loss: 0.2301 - accuracy: 0.9101 - val_loss: 0.4947 - val_accuracy: 0.7998\n",
      "Epoch 6/20\n",
      "130/130 - 63s - loss: 0.2120 - accuracy: 0.9192 - val_loss: 0.4625 - val_accuracy: 0.8037\n",
      "Epoch 7/20\n",
      "130/130 - 63s - loss: 0.2099 - accuracy: 0.9183 - val_loss: 2.5541 - val_accuracy: 0.2861\n",
      "Epoch 8/20\n",
      "130/130 - 63s - loss: 0.2116 - accuracy: 0.9139 - val_loss: 0.6996 - val_accuracy: 0.7607\n",
      "Epoch 9/20\n",
      "130/130 - 63s - loss: 0.2051 - accuracy: 0.9221 - val_loss: 0.5757 - val_accuracy: 0.7861\n",
      "Epoch 10/20\n",
      "130/130 - 63s - loss: 0.2030 - accuracy: 0.9226 - val_loss: 0.3857 - val_accuracy: 0.8438\n",
      "Epoch 11/20\n",
      "130/130 - 65s - loss: 0.1857 - accuracy: 0.9269 - val_loss: 0.8160 - val_accuracy: 0.7617\n",
      "Epoch 12/20\n",
      "130/130 - 64s - loss: 0.2160 - accuracy: 0.9183 - val_loss: 0.3075 - val_accuracy: 0.8965\n",
      "Epoch 13/20\n",
      "130/130 - 64s - loss: 0.1938 - accuracy: 0.9250 - val_loss: 1.4262 - val_accuracy: 0.4785\n",
      "Epoch 14/20\n",
      "130/130 - 64s - loss: 0.1997 - accuracy: 0.9200 - val_loss: 0.3176 - val_accuracy: 0.8711\n",
      "Epoch 15/20\n",
      "130/130 - 65s - loss: 0.1853 - accuracy: 0.9310 - val_loss: 0.3872 - val_accuracy: 0.8682\n",
      "Epoch 16/20\n",
      "130/130 - 64s - loss: 0.1984 - accuracy: 0.9226 - val_loss: 1.7210 - val_accuracy: 0.3564\n",
      "Epoch 17/20\n",
      "130/130 - 64s - loss: 0.1800 - accuracy: 0.9291 - val_loss: 0.3715 - val_accuracy: 0.8740\n",
      "Epoch 18/20\n",
      "130/130 - 64s - loss: 0.1799 - accuracy: 0.9310 - val_loss: 0.4092 - val_accuracy: 0.8447\n",
      "Epoch 19/20\n",
      "130/130 - 63s - loss: 0.1873 - accuracy: 0.9274 - val_loss: 3.0269 - val_accuracy: 0.7422\n",
      "Epoch 20/20\n",
      "130/130 - 63s - loss: 0.2051 - accuracy: 0.9221 - val_loss: 0.3210 - val_accuracy: 0.8818\n"
     ]
    }
   ],
   "source": [
    "history = FCN.fit(x=training_generator,\n",
    "                  epochs=EPOCHS,\n",
    "                  verbose=2,\n",
    "                  validation_data=val_generator)"
   ]
  },
  {
   "cell_type": "code",
   "execution_count": 10,
   "metadata": {},
   "outputs": [
    {
     "data": {
      "image/png": "[encoded data removed]",
      "text/plain": [
       "<Figure size 576x576 with 2 Axes>"
      ]
     },
     "metadata": {
      "needs_background": "light"
     },
     "output_type": "display_data"
    }
   ],
   "source": [
    "import matplotlib.pyplot as plt\n",
    "acc = history.history['accuracy']\n",
    "val_acc = history.history['val_accuracy']\n",
    "\n",
    "loss = history.history['loss']\n",
    "val_loss = history.history['val_loss']\n",
    "\n",
    "epochs_range = range(EPOCHS)\n",
    "\n",
    "plt.figure(figsize=(8, 8))\n",
    "plt.subplot(1, 2, 1)\n",
    "plt.plot(epochs_range, acc, label='Training Accuracy')\n",
    "plt.plot(epochs_range, val_acc, label='Validation Accuracy')\n",
    "plt.legend(loc='lower right')\n",
    "plt.title('Training and Validation Accuracy')\n",
    "\n",
    "plt.subplot(1, 2, 2)\n",
    "plt.plot(epochs_range, loss, label='Training Loss')\n",
    "plt.plot(epochs_range, val_loss, label='Validation Loss')\n",
    "plt.legend(loc='upper right')\n",
    "plt.title('Training and Validation Loss')\n",
    "plt.show()"
   ]
  },
  {
   "cell_type": "code",
   "execution_count": null,
   "metadata": {},
   "outputs": [],
   "source": []
  }
 ],
 "metadata": {
  "kernelspec": {
   "display_name": "tensorflow-gpu",
   "language": "python",
   "name": "tensorflow-gpu"
  },
  "language_info": {
   "codemirror_mode": {
    "name": "ipython",
    "version": 3
   },
   "file_extension": ".py",
   "mimetype": "text/x-python",
   "name": "python",
   "nbconvert_exporter": "python",
   "pygments_lexer": "ipython3",
   "version": "3.8.5"
  }
 },
 "nbformat": 4,
 "nbformat_minor": 4
}
